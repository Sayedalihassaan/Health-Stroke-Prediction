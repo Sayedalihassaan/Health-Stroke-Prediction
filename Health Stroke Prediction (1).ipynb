{
 "cells": [
  {
   "cell_type": "code",
   "execution_count": null,
   "id": "993ab14d",
   "metadata": {},
   "outputs": [],
   "source": [
    "import numpy as np\n",
    "import pandas as pd\n",
    "import matplotlib.pyplot as plt\n",
    "import missingno as mis\n",
    "import os \n",
    "import seaborn as sns\n",
    "import plotly.express as px\n",
    "\n",
    "\n",
    "import warnings\n",
    "warnings.filterwarnings(\"ignore\")\n",
    "\n",
    "# metrics\n",
    "from sklearn.metrics import confusion_matrix , mean_squared_error , classification_report\n",
    "\n",
    "# preprocessing\n",
    "from sklearn.model_selection import train_test_split , cross_val_score , cross_val_predict , GridSearchCV , RandomizedSearchCV\n",
    "from sklearn.preprocessing import LabelEncoder , StandardScaler\n",
    "from sklearn.impute import SimpleImputer\n",
    "\n",
    "\n",
    "## pipeline\n",
    "from sklearn.pipeline import Pipeline ,FeatureUnion\n",
    "from sklearn_features.transformers import DataFrameSelector\n",
    "\n",
    "\n",
    "#ensemble\n",
    "from sklearn.ensemble import RandomForestClassifier\n",
    "\n",
    "\n",
    "#xgboost\n",
    "import xgboost as xgp\n",
    "\n",
    "# ANN Neural Network\n",
    "from keras import layers , Sequential \n",
    "from tensorflow.keras.layers import Dense\n"
   ]
  },
  {
   "cell_type": "markdown",
   "id": "147695ce",
   "metadata": {},
   "source": [
    "## Open File csv"
   ]
  },
  {
   "cell_type": "code",
   "execution_count": null,
   "id": "e56fa9ea",
   "metadata": {},
   "outputs": [],
   "source": [
    "path = r\"D:\\ML_data\\full_data.csv\"\n",
    "\n",
    "if os.path.exists(path):\n",
    "    df = pd.read_csv(path)\n",
    "    print(df.head())\n",
    "    \n",
    "else:\n",
    "    print(\"Sorry , your file path not found.\")"
   ]
  },
  {
   "cell_type": "code",
   "execution_count": null,
   "id": "20c39a56",
   "metadata": {},
   "outputs": [],
   "source": [
    "df.head()"
   ]
  },
  {
   "cell_type": "code",
   "execution_count": null,
   "id": "8a87b43a",
   "metadata": {},
   "outputs": [],
   "source": [
    "df.tail()"
   ]
  },
  {
   "cell_type": "markdown",
   "id": "d9194bd9",
   "metadata": {},
   "source": [
    "# Gender: This feature denotes the gender of the individual, categorized as either male or female.\n",
    "\n",
    "# Age: The age of the individual in years.\n",
    "\n",
    "# Hypertension: Indicates whether the individual has hypertension (high blood pressure) or not. It's binary, where 1 represents the presence of hypertension and 0 represents the absence.\n",
    "\n",
    "# Heart Disease: Denotes whether the individual has heart disease or not. Similarly binary, with 1 indicating the presence and 0 indicating the absence.\n",
    "\n",
    "# Ever Married: This feature indicates whether the individual has ever been married or not, categorized as \"Yes\" or \"No\".\n",
    "\n",
    "# Work Type: Describes the type of work the individual is engaged in, such as Private, Self-employed, etc.\n",
    "\n",
    "# Residence Type: Denotes whether the individual resides in an urban or rural area.\n",
    "\n",
    "# Average Glucose Level: The average glucose level measured in the blood.\n",
    "\n",
    "# BMI (Body Mass Index): Body mass index is a value derived from the mass and height of an individual. It's a measure of body fat based on height and weight.\n",
    "\n",
    "# Smoking Status: Indicates the smoking status of the individual, categorized as \"formerly smoked\", \"never smoked\", or \"smokes\".\n",
    "\n",
    "# Stroke: This is the target variable, indicating whether the individual has had a stroke (1) or not (0).\n",
    "\n",
    "\n",
    "# Summary:\n",
    "\n",
    "# The dataset contains information on 5,000 individuals.\n",
    "# There are both categorical and numerical features.\n",
    "# Categorical features include Gender, Ever Married, Work Type, Residence Type, and Smoking Status.\n",
    "# Numerical features include Age, Average Glucose Level, and BMI.\n",
    "# Target variable (dependent variable) is Stroke, which we aim to predict based on other features.\n",
    "# Understanding these features can help in various analyses such as predicting the likelihood of stroke based on demographic and health-related factors. Additionally, it can be used to understand correlations between different factors and occurrences of strokes.\n",
    "\n",
    "\n",
    "\n",
    "\n"
   ]
  },
  {
   "cell_type": "code",
   "execution_count": null,
   "id": "982372b3",
   "metadata": {},
   "outputs": [],
   "source": [
    "df.info()"
   ]
  },
  {
   "cell_type": "code",
   "execution_count": null,
   "id": "8ea130ab",
   "metadata": {},
   "outputs": [],
   "source": [
    "df.describe().T"
   ]
  },
  {
   "cell_type": "code",
   "execution_count": null,
   "id": "484c1389",
   "metadata": {},
   "outputs": [],
   "source": [
    "df.describe(include=object).T"
   ]
  },
  {
   "cell_type": "code",
   "execution_count": null,
   "id": "7f36ab7b",
   "metadata": {},
   "outputs": [],
   "source": [
    "df.isnull().sum()"
   ]
  },
  {
   "cell_type": "code",
   "execution_count": null,
   "id": "e1c2d649",
   "metadata": {},
   "outputs": [],
   "source": [
    "print('Missing values: ',sum(df.isnull().sum()))"
   ]
  },
  {
   "cell_type": "code",
   "execution_count": null,
   "id": "e8b318e2",
   "metadata": {},
   "outputs": [],
   "source": [
    "mis.matrix(df)"
   ]
  },
  {
   "cell_type": "code",
   "execution_count": null,
   "id": "ec69576a",
   "metadata": {},
   "outputs": [],
   "source": [
    "mis.bar(df)"
   ]
  },
  {
   "cell_type": "markdown",
   "id": "943cba70",
   "metadata": {},
   "source": [
    "# EDA (Exploratory data analysis)"
   ]
  },
  {
   "cell_type": "code",
   "execution_count": null,
   "id": "588fad95",
   "metadata": {},
   "outputs": [],
   "source": [
    "df[\"stroke\"].value_counts()"
   ]
  },
  {
   "cell_type": "code",
   "execution_count": null,
   "id": "31778fd3",
   "metadata": {},
   "outputs": [],
   "source": [
    "counts = [4733, 248]\n",
    "labels = [\"0\", \"1\"]\n",
    "\n",
    "plt.figure(figsize=(10,8))\n",
    "plt.pie(counts, labels=labels, autopct=\"%1.1f%%\")\n",
    "plt.axis(\"equal\")\n",
    "plt.title(\"Distribution of stroke status\")\n",
    "plt.show()"
   ]
  },
  {
   "cell_type": "code",
   "execution_count": null,
   "id": "30468c7d",
   "metadata": {},
   "outputs": [],
   "source": [
    "counts = [4733, 248]\n",
    "\n",
    "plt.figure(figsize=(10, 6))\n",
    "sns.barplot(counts)\n",
    "plt.title(\"Barplot of stroke status\")\n",
    "plt.xlabel(\"Stroke Status\")\n",
    "plt.ylabel(\"Counts\")\n",
    "plt.show()"
   ]
  },
  {
   "cell_type": "code",
   "execution_count": null,
   "id": "22a2b7c0",
   "metadata": {},
   "outputs": [],
   "source": [
    "df[\"gender\"].value_counts()"
   ]
  },
  {
   "cell_type": "code",
   "execution_count": null,
   "id": "03b29d81",
   "metadata": {},
   "outputs": [],
   "source": [
    "counts = [2907, 2074]\n",
    "labels = [\"Female\", \"Male\"]\n",
    "\n",
    "plt.figure(figsize=(10,8))\n",
    "plt.pie(counts , labels=labels , autopct=\"%1.1f%%\")\n",
    "plt.axis(\"equal\")\n",
    "plt.title(\"Distribution of gender status\")\n",
    "plt.show()"
   ]
  },
  {
   "cell_type": "code",
   "execution_count": null,
   "id": "4057ef90",
   "metadata": {},
   "outputs": [],
   "source": [
    "counts = [2907, 2074]\n",
    "labels = [\"Female\", \"Male\"]\n",
    "\n",
    "plt.figure(figsize=(10, 6))\n",
    "sns.barplot(x=labels, y=counts)\n",
    "plt.title(\"Barplot of gender status\")\n",
    "plt.xlabel(\"Gender\")\n",
    "plt.ylabel(\"Counts\")\n",
    "plt.show()"
   ]
  },
  {
   "cell_type": "code",
   "execution_count": null,
   "id": "958bc389",
   "metadata": {},
   "outputs": [],
   "source": [
    "plt.figure(figsize=(10, 6))\n",
    "\n",
    "# Scatter plot 1\n",
    "sns.scatterplot(x=df[\"age\"], y=df[\"bmi\"], label=\"Scatterplot 1\")\n",
    "\n",
    "# Scatter plot 2\n",
    "sns.scatterplot(x=df[\"age\"], y=df[\"bmi\"], label=\"Scatterplot 2\")\n",
    "\n",
    "# Scatter plot 3\n",
    "sns.scatterplot(x=df[\"age\"], y=df[\"bmi\"], label=\"Scatterplot 3\")\n",
    "\n",
    "\n",
    "plt.title(\"Scatterplot of Age vs BMI\")\n",
    "plt.xlabel(\"Age\")\n",
    "plt.ylabel(\"BMI\")\n",
    "plt.legend()\n",
    "plt.show()"
   ]
  },
  {
   "cell_type": "code",
   "execution_count": null,
   "id": "164c536c",
   "metadata": {},
   "outputs": [],
   "source": [
    "plt.subplot(2,1,1)\n",
    "sns.scatterplot(x=df['avg_glucose_level'],y=df['bmi'],hue=df['stroke'])\n",
    "plt.title('Stroke Sample Distribution Based On Bmi And Glucose Level')\n",
    "\n",
    "plt.subplot(2,1,2)\n",
    "sns.scatterplot(x=df['age'],y=df['bmi'],hue=df['stroke'])\n",
    "plt.title('Stroke Sample Distribution Based On Bmi And Age')\n",
    "plt.tight_layout()\n",
    "plt.show()"
   ]
  },
  {
   "cell_type": "code",
   "execution_count": null,
   "id": "f332cd3b",
   "metadata": {},
   "outputs": [],
   "source": [
    "fig,axes = plt.subplots(4,2,figsize = (16,16))\n",
    "sns.set_style('whitegrid')\n",
    "fig.suptitle(\"Count plot for various categorical features\")\n",
    "\n",
    "sns.countplot(ax=axes[0,0],data=df,x='gender')\n",
    "sns.countplot(ax=axes[0,1],data=df,x='hypertension')\n",
    "sns.countplot(ax=axes[1,0],data=df,x='heart_disease')\n",
    "sns.countplot(ax=axes[1,1],data=df,x='ever_married')\n",
    "sns.countplot(ax=axes[2,0],data=df,x='work_type')\n",
    "sns.countplot(ax=axes[2,1],data=df,x='Residence_type')\n",
    "sns.countplot(ax=axes[3,0],data=df,x='smoking_status')\n",
    "sns.countplot(ax=axes[3,1],data=df,x='stroke')\n",
    "\n",
    "\n",
    "plt.show()"
   ]
  },
  {
   "cell_type": "code",
   "execution_count": null,
   "id": "d9c74a52",
   "metadata": {},
   "outputs": [],
   "source": [
    "fig = px.box(data_frame = df,\n",
    "            x = \"avg_glucose_level\",\n",
    "            width = 800,\n",
    "            height = 300)\n",
    "\n",
    "fig.update_layout({\"template\":\"plotly_dark\"})\n",
    "fig.show()"
   ]
  },
  {
   "cell_type": "code",
   "execution_count": null,
   "id": "7d323835",
   "metadata": {},
   "outputs": [],
   "source": [
    "plt.figure(figsize = (10,6))\n",
    "cr = df[df.columns].corr()\n",
    "sns.heatmap(cr,cmap=\"viridis\", annot = True)\n",
    "plt.show()"
   ]
  },
  {
   "cell_type": "code",
   "execution_count": null,
   "id": "469e9126",
   "metadata": {},
   "outputs": [],
   "source": [
    "fig, axes = plt.subplots(nrows=2, ncols=2, figsize=(12, 10))\n",
    "df.plot(kind=\"hist\", y=\"age\", bins=70, color=\"b\", ax=axes[0][0])\n",
    "df.plot(kind=\"hist\", y=\"bmi\", bins=100, color=\"r\", ax=axes[0][1])\n",
    "df.plot(kind=\"hist\", y=\"heart_disease\", bins=6, color=\"g\", ax=axes[1][0])\n",
    "df.plot(kind=\"hist\", y=\"avg_glucose_level\", bins=100, color=\"orange\", ax=axes[1][1])\n",
    "plt.show()"
   ]
  },
  {
   "cell_type": "code",
   "execution_count": null,
   "id": "04b8265b",
   "metadata": {},
   "outputs": [],
   "source": [
    "fig, axes = plt.subplots(nrows=2, ncols=2, figsize=(12, 10))\n",
    "df.plot(kind=\"hist\", y=\"hypertension\", bins=70, color=\"b\", ax=axes[0][0])\n",
    "df.plot(kind=\"hist\", y=\"stroke\", bins=100, color=\"r\", ax=axes[0][1])\n",
    "df.plot(kind=\"hist\", y=\"bmi\", bins=6, color=\"g\", ax=axes[1][0])\n",
    "df.plot(kind=\"hist\", y=\"avg_glucose_level\", bins=100, color=\"orange\", ax=axes[1][1])\n",
    "plt.show()"
   ]
  },
  {
   "cell_type": "code",
   "execution_count": null,
   "id": "5929c87a",
   "metadata": {},
   "outputs": [],
   "source": [
    "df._get_numeric_data()"
   ]
  },
  {
   "cell_type": "code",
   "execution_count": null,
   "id": "64c8a135",
   "metadata": {},
   "outputs": [],
   "source": [
    "fig, axes = plt.subplots(nrows=1, ncols=2, figsize=(15, 5))\n",
    "df.plot(kind='scatter', x='age', y='avg_glucose_level', alpha=0.5, color='green', ax=axes[0], title=\"Age vs. avg_glucose_level\")\n",
    "df.plot(kind='scatter', x='avg_glucose_level', y='bmi', alpha=0.5, color='red', ax=axes[1], title=\"avg_glucose_level vs. bmi\")\n",
    "plt.show()"
   ]
  },
  {
   "cell_type": "markdown",
   "id": "7c506837",
   "metadata": {},
   "source": [
    "# Data Summary ( Check for missing values )"
   ]
  },
  {
   "cell_type": "code",
   "execution_count": null,
   "id": "27b40405",
   "metadata": {},
   "outputs": [],
   "source": [
    "print (\"Rows     : \" , df.shape[0])\n",
    "print (\"Columns  : \" , df.shape[1])\n",
    "print (\"\\nFeatures : \\n\" , df.columns.tolist())\n",
    "print (\"\\nMissing values :  \", df.isnull().sum().values.sum())\n",
    "print (\"\\nUnique values :  \\n\",df.nunique())"
   ]
  },
  {
   "cell_type": "code",
   "execution_count": null,
   "id": "f2be762c",
   "metadata": {},
   "outputs": [],
   "source": [
    "fig, axes = plt.subplots(nrows=1, ncols=2, figsize=(15, 5))\n",
    "df.plot(kind='scatter', x='age', y='avg_glucose_level', alpha=0.5, color='green', ax=axes[0], title=\"Age vs. avg_glucose_level\")\n",
    "df.plot(kind='scatter', x='bmi', y='avg_glucose_level', alpha=0.5, color='red', ax=axes[1], title=\"bmi vs. avg_glucose_level\")\n",
    "plt.show()"
   ]
  },
  {
   "cell_type": "code",
   "execution_count": null,
   "id": "200a88e0",
   "metadata": {},
   "outputs": [],
   "source": [
    "sns.set(style=\"ticks\");\n",
    "pal = [\"#FA5858\", \"#58D3F7\"]\n",
    "\n",
    "sns.pairplot(df, hue=\"stroke\", palette=pal);\n",
    "plt.title(\"stroke\");\n"
   ]
  },
  {
   "cell_type": "code",
   "execution_count": null,
   "id": "65638001",
   "metadata": {},
   "outputs": [],
   "source": [
    "plt.figure(figsize=(10,7))\n",
    "sns.boxplot(data=df,x=df[\"bmi\"]);"
   ]
  },
  {
   "cell_type": "code",
   "execution_count": null,
   "id": "1603546d",
   "metadata": {},
   "outputs": [],
   "source": [
    "plt.figure(figsize=(10,5))\n",
    "sns.countplot(data=df,x='work_type',palette='cool');"
   ]
  },
  {
   "cell_type": "code",
   "execution_count": null,
   "id": "72662812",
   "metadata": {},
   "outputs": [],
   "source": [
    "plt.figure(figsize=(10,5))\n",
    "sns.countplot(data=df,x='Residence_type',palette='cool');"
   ]
  },
  {
   "cell_type": "code",
   "execution_count": null,
   "id": "756413ad",
   "metadata": {},
   "outputs": [],
   "source": [
    "plt.figure(figsize=(10,5))\n",
    "sns.countplot(data=df,x='smoking_status',palette='cool');"
   ]
  },
  {
   "cell_type": "code",
   "execution_count": null,
   "id": "8c20264e",
   "metadata": {},
   "outputs": [],
   "source": [
    "df.hist(bins=25 , figsize=(15,10))\n",
    "plt.show()"
   ]
  },
  {
   "cell_type": "code",
   "execution_count": null,
   "id": "c02ace7a",
   "metadata": {},
   "outputs": [],
   "source": [
    "plt.figure(figsize=(18, 9))\n",
    "ax = sns.violinplot(x='age', y='avg_glucose_level', hue='stroke', data=df, scale='count', palette={0: \"b\", 1: \"orange\"}, cut=0)\n",
    "ax.set_xlabel('Age', fontsize=14)\n",
    "ax.set_ylabel('Glucose level', fontsize=14)\n",
    "ax.set_title('Age, Glucose vs Stroke', fontsize=20)\n",
    "plt.show()"
   ]
  },
  {
   "cell_type": "code",
   "execution_count": null,
   "id": "a291c7da",
   "metadata": {},
   "outputs": [],
   "source": [
    "df._get_numeric_data().corr()"
   ]
  },
  {
   "cell_type": "code",
   "execution_count": null,
   "id": "59fe38bc",
   "metadata": {},
   "outputs": [],
   "source": [
    "plt.figure(figsize=(10,6))\n",
    "sns.heatmap(df._get_numeric_data().corr() , annot=True , cmap=\"Blues\")\n",
    "plt.show()"
   ]
  },
  {
   "cell_type": "code",
   "execution_count": null,
   "id": "1acfaaf3",
   "metadata": {},
   "outputs": [],
   "source": [
    "plt.figure(figsize=(10,6))\n",
    "sns.boxplot(data=df, x=df[\"work_type\"])"
   ]
  },
  {
   "cell_type": "code",
   "execution_count": null,
   "id": "07c386f1",
   "metadata": {},
   "outputs": [],
   "source": [
    "sns.pairplot(df , hue=\"stroke\")\n",
    "plt.show()"
   ]
  },
  {
   "cell_type": "code",
   "execution_count": null,
   "id": "3f3cbf62",
   "metadata": {},
   "outputs": [],
   "source": [
    "df.columns"
   ]
  },
  {
   "cell_type": "code",
   "execution_count": null,
   "id": "be611b34",
   "metadata": {
    "scrolled": false
   },
   "outputs": [],
   "source": [
    "for i in df._get_numeric_data():\n",
    "    sns.distplot(df[i])\n",
    "    plt.title(f'Distribution of {i}')\n",
    "    plt.xlabel(i)\n",
    "    plt.ylabel('Density')\n",
    "    plt.show()"
   ]
  },
  {
   "cell_type": "code",
   "execution_count": null,
   "id": "0a2ee96a",
   "metadata": {},
   "outputs": [],
   "source": [
    "plt.figure(figsize=(10,8))\n",
    "sns.barplot(df)\n",
    "plt.show()"
   ]
  },
  {
   "cell_type": "code",
   "execution_count": null,
   "id": "b1f58bed",
   "metadata": {},
   "outputs": [],
   "source": [
    "df.duplicated().sum()"
   ]
  },
  {
   "cell_type": "code",
   "execution_count": null,
   "id": "7328b8e9",
   "metadata": {},
   "outputs": [],
   "source": [
    "X = df.drop(columns=[\"stroke\"])\n",
    "y = df[\"stroke\"]"
   ]
  },
  {
   "cell_type": "code",
   "execution_count": null,
   "id": "21ce730a",
   "metadata": {},
   "outputs": [],
   "source": [
    "X_train ,X_test , y_train , y_test = train_test_split(X , y , test_size=0.2 , shuffle=True , random_state=123)"
   ]
  },
  {
   "cell_type": "code",
   "execution_count": null,
   "id": "26ae56fc",
   "metadata": {},
   "outputs": [],
   "source": [
    "print(f\"X Train shape is == {X_train.shape}\")\n",
    "print(f\"X test shape is == {X_test.shape}\")\n",
    "print(f\"y train shape is == {y_train.shape}\")\n",
    "print(f\"y test shape is == {y_test.shape}\")"
   ]
  },
  {
   "cell_type": "code",
   "execution_count": null,
   "id": "797532da",
   "metadata": {},
   "outputs": [],
   "source": [
    "col_nums = [col for col in X_train.columns if df[col].dtype in [\"int32\" , \"int64\" , \"float32\",\"float64\"]]\n",
    "\n",
    "col_catg = [col for col in X_train.columns if df[col].dtype not in [\"int32\" , \"int64\" , \"float32\",\"float64\"]]\n",
    "\n",
    "if (col_nums) and (col_catg) :\n",
    "    print(f\"colunms nums is \\n {col_nums}\")\n",
    "    print(f\"colunms catg is \\n {col_catg}\")\n",
    "          \n",
    "elif col_catg:\n",
    "    print(f\"colunms catg is \\n {col_catg}\")\n",
    "\n",
    "else:\n",
    "    print(f\"colunms nums is \\n {col_nums}\")\n"
   ]
  },
  {
   "cell_type": "code",
   "execution_count": null,
   "id": "969cb248",
   "metadata": {},
   "outputs": [],
   "source": [
    "pip_num = Pipeline(steps=[\n",
    "    (\"select\" , DataFrameSelector(col_nums),\n",
    "    (\"simple\" , SimpleImputer(strategy=\"median\"),\n",
    "    (\"scaler\" , StandardScaler())))\n",
    "])"
   ]
  },
  {
   "cell_type": "code",
   "execution_count": null,
   "id": "349e8a4f",
   "metadata": {},
   "outputs": [],
   "source": [
    "pip_catg = Pipeline(steps=[\n",
    "    (\"Selector\" , DataFrameSelector(col_catg),\n",
    "    (\"imputer\" , SimpleImputer(strategy=\"constant\" , fill_value=\"missing\")),\n",
    "    (\"ont_hot\" , LabelEncoder()))\n",
    "])"
   ]
  },
  {
   "cell_type": "code",
   "execution_count": null,
   "id": "d9fb1f2c",
   "metadata": {},
   "outputs": [],
   "source": [
    "def Preprocessing(col_nums, col_catg, X_train, X_test):\n",
    "    \n",
    "    pip_catg = Pipeline(steps=[\n",
    "        (\"Selector\" , DataFrameSelector(col_catg)),\n",
    "        (\"imputer\" , SimpleImputer(strategy=\"constant\" , fill_value=\"missing\")),\n",
    "        (\"one_hot\" , LabelEncoder())\n",
    "    ])\n",
    "    \n",
    "    pip_num = Pipeline(steps=[\n",
    "        (\"select\" , DataFrameSelector(col_nums)),\n",
    "        (\"simple\" , SimpleImputer(strategy=\"median\")),\n",
    "        (\"scaler\" , StandardScaler())\n",
    "    ])\n",
    "\n",
    "    total_pipeline = FeatureUnion(transformer_list=[\n",
    "        (\"num_pipeline\", pip_num),\n",
    "        (\"cate_pipeline\", pip_catg)\n",
    "    ])\n",
    "\n",
    "    pip_num.fit(X_train)\n",
    "    X_train_final = pip_num.transform(X_train)\n",
    "    X_test_final = pip_num.transform(X_test)\n",
    "\n",
    "    return X_train_final, X_test_final\n",
    "\n",
    "\n",
    "X_train_final, X_test_final = Preprocessing(col_nums, col_catg, X_train, X_test)\n",
    "\n",
    "\n",
    "print(f\"X_train_final is = {X_train_final}\")\n",
    "print(\"*\"*100)\n",
    "print(f\"X_test_final is = {X_test_final}\")"
   ]
  },
  {
   "cell_type": "code",
   "execution_count": null,
   "id": "2fa62652",
   "metadata": {},
   "outputs": [],
   "source": [
    "df.hist(bins=25 , figsize=(15,10))\n",
    "plt.show()"
   ]
  },
  {
   "cell_type": "markdown",
   "id": "434aea9e",
   "metadata": {},
   "source": [
    "# Solve skewed by log transform¶"
   ]
  },
  {
   "cell_type": "code",
   "execution_count": null,
   "id": "176c2d0c",
   "metadata": {},
   "outputs": [],
   "source": [
    "colms = (df._get_numeric_data()).columns\n",
    "colms"
   ]
  },
  {
   "cell_type": "code",
   "execution_count": null,
   "id": "7630b06b",
   "metadata": {},
   "outputs": [],
   "source": [
    "colms = [cols for cols in (df._get_numeric_data()).columns]\n",
    "for col in colms:\n",
    "    df[col] = np.log(df[col] + 1e-10).astype(float)"
   ]
  },
  {
   "cell_type": "code",
   "execution_count": null,
   "id": "7d029e53",
   "metadata": {},
   "outputs": [],
   "source": [
    "df.hist(bins=20 , figsize=(10,8))\n",
    "plt.show()"
   ]
  },
  {
   "cell_type": "markdown",
   "id": "965c6660",
   "metadata": {},
   "source": [
    "# RandomForestClassifier"
   ]
  },
  {
   "cell_type": "code",
   "execution_count": null,
   "id": "6efcbcc9",
   "metadata": {},
   "outputs": [],
   "source": [
    "Random = RandomForestClassifier()"
   ]
  },
  {
   "cell_type": "code",
   "execution_count": null,
   "id": "d3ab0216",
   "metadata": {},
   "outputs": [],
   "source": [
    "# Define the hyperparameter grid\n",
    "hyper_params = {\n",
    "    \"n_estimators\": [i for i in range(100 ,500 ,100)],\n",
    "    \"max_depth\": [i for i in range(3,15,3)],\n",
    "    \"criterion\": ['entropy', 'gini', 'log_loss'],\n",
    "}\n",
    "\n",
    "# Create GridSearchCV object\n",
    "random_hyper = GridSearchCV(\n",
    "    estimator=Random,\n",
    "    param_grid=hyper_params,\n",
    "    scoring=\"neg_mean_squared_error\",\n",
    "    cv=5,\n",
    "    n_jobs=-1\n",
    ")\n",
    "\n",
    "# Fit the model\n",
    "random_model = random_hyper.fit(X_train_final, y_train)"
   ]
  },
  {
   "cell_type": "code",
   "execution_count": null,
   "id": "8948e1c0",
   "metadata": {},
   "outputs": [],
   "source": [
    "print(\"Best parameters : \\n\", random_model.best_params_)"
   ]
  },
  {
   "cell_type": "code",
   "execution_count": null,
   "id": "76ae29f8",
   "metadata": {},
   "outputs": [],
   "source": [
    "Rand_sea = random_model.best_estimator_\n",
    "Rand_sea"
   ]
  },
  {
   "cell_type": "code",
   "execution_count": null,
   "id": "6c4b3ee7",
   "metadata": {},
   "outputs": [],
   "source": [
    "corss_val = cross_val_score(estimator=Rand_sea, X=X_train_final, y=y_train,\n",
    "                            scoring=\"balanced_accuracy\", cv=5, n_jobs=-1)\n",
    "\n",
    "print(\"Score is ==>>\\n \", abs(corss_val))\n",
    "\n",
    "print(\"cross val score mean is ==>> \", corss_val.mean())"
   ]
  },
  {
   "cell_type": "code",
   "execution_count": null,
   "id": "003e836d",
   "metadata": {},
   "outputs": [],
   "source": [
    "cross_val_pred = cross_val_predict(estimator=Rand_sea ,X = X_train_final , y=y_train ,\n",
    "                                  method=\"predict\" , cv=5 , n_jobs=-1)\n",
    "\n",
    "\n",
    "# Calculate mean squared error\n",
    "mse = np.sqrt(mean_squared_error(y_train, cross_val_pred))\n",
    "\n",
    "# Print the MSE\n",
    "print(f\"The mean squared error is {mse:.4f}\")"
   ]
  },
  {
   "cell_type": "code",
   "execution_count": null,
   "id": "0684a697",
   "metadata": {},
   "outputs": [],
   "source": [
    "X_train_final.shape[1]"
   ]
  },
  {
   "cell_type": "code",
   "execution_count": null,
   "id": "14ad6dd5",
   "metadata": {},
   "outputs": [],
   "source": [
    "df.columns\n"
   ]
  },
  {
   "cell_type": "code",
   "execution_count": null,
   "id": "171bcb5c",
   "metadata": {},
   "outputs": [],
   "source": [
    "y_pred = random_model.predict(X_test_final)\n",
    "y_pred[:5]"
   ]
  },
  {
   "cell_type": "code",
   "execution_count": null,
   "id": "16433d4c",
   "metadata": {},
   "outputs": [],
   "source": [
    "confusion = confusion_matrix(y_test , y_pred)\n",
    "confusion\n"
   ]
  },
  {
   "cell_type": "code",
   "execution_count": null,
   "id": "18b052db",
   "metadata": {},
   "outputs": [],
   "source": [
    "plt.figure(figsize=(14,8))\n",
    "sns.heatmap(confusion , fmt=\"g\" , annot=True , cbar=True , vmin=0 , cmap=\"Blues\")\n",
    "plt.xticks(ticks=np.arange(2) + 0.5 , labels=[\"False\" , \"True\"])\n",
    "plt.yticks(ticks=np.arange(2) + 0.5 , labels=[\"False\" , \"True\"])\n",
    "plt.xlabel(\"Predicted\" , fontsize=14 , color=\"b\")\n",
    "plt.ylabel(\"Actula\" , fontsize=14 , color=\"b\")\n",
    "plt.title(\"Confusion Matrix\" , fontsize=20 , color=\"m\")\n",
    "plt.show()"
   ]
  },
  {
   "cell_type": "code",
   "execution_count": null,
   "id": "27837ba0",
   "metadata": {},
   "outputs": [],
   "source": [
    "print(f\" some details \\n {classification_report(y_test , y_pred)}\")\n"
   ]
  },
  {
   "cell_type": "markdown",
   "id": "1f0f1b81",
   "metadata": {},
   "source": [
    "# xgboost"
   ]
  },
  {
   "cell_type": "code",
   "execution_count": null,
   "id": "3f295165",
   "metadata": {},
   "outputs": [],
   "source": [
    "xg_clas = xgp.XGBClassifier()\n",
    "xg_clas.fit(X_train_final , y_train)"
   ]
  },
  {
   "cell_type": "code",
   "execution_count": null,
   "id": "d3ca64b8",
   "metadata": {},
   "outputs": [],
   "source": [
    "cross_val_xgb = cross_val_score(estimator=xg_clas , X=X_train_final , y=y_train ,\n",
    "                            cv=5 , scoring=\"accuracy\" , n_jobs=-1)\n",
    "\n",
    " \n",
    "print(\"Score is ==>>\\n \",abs(cross_val_xgb))\n",
    "\n",
    "print(\"cross val score mean is ==>> \",cross_val_xgb.mean())"
   ]
  },
  {
   "cell_type": "code",
   "execution_count": null,
   "id": "9aea1f2c",
   "metadata": {},
   "outputs": [],
   "source": [
    "# Make cross-validation predictions\n",
    "cross_val_pred = cross_val_predict(estimator=xg_clas, X=X_train_final, y=y_train,\n",
    "                                   cv=5, method=\"predict\", n_jobs=-1)\n",
    "\n",
    "\n",
    "\n",
    "# Calculate mean squared error\n",
    "mse =np.sqrt(mean_squared_error(y_train, cross_val_pred))\n",
    "# Print the MSE\n",
    "print(f\"The mean squared error is {mse:.4f}\")"
   ]
  },
  {
   "cell_type": "markdown",
   "id": "0550c00b",
   "metadata": {},
   "source": [
    "# Using Deep Learning"
   ]
  },
  {
   "cell_type": "code",
   "execution_count": null,
   "id": "28c7f8dc",
   "metadata": {},
   "outputs": [],
   "source": [
    "X_train_final[0].shape"
   ]
  },
  {
   "cell_type": "code",
   "execution_count": null,
   "id": "8d9956b8",
   "metadata": {},
   "outputs": [],
   "source": [
    "# setting up the layers of Neural Network\n",
    "\n",
    "model = Sequential([  \n",
    "                          layers.Flatten(input_shape=(X_train_final[0].shape)),\n",
    "                          layers.Dense(64, activation='relu'),\n",
    "                          layers.Dense(7, activation='softmax')\n",
    "])\n",
    "\n",
    "model.summary()"
   ]
  },
  {
   "cell_type": "code",
   "execution_count": null,
   "id": "36fec4c8",
   "metadata": {},
   "outputs": [],
   "source": [
    "# compiling the Neural Network\n",
    "\n",
    "model.compile(optimizer=\"adam\" ,\n",
    "              loss=\"sparse_categorical_crossentropy\",\n",
    "              metrics=[\"accuracy\"])"
   ]
  },
  {
   "cell_type": "code",
   "execution_count": null,
   "id": "02d6481a",
   "metadata": {},
   "outputs": [],
   "source": [
    "# training the Neural Network\n",
    "history = model.fit(X_train_final , y_train , epochs=50)\n",
    "history"
   ]
  },
  {
   "cell_type": "code",
   "execution_count": null,
   "id": "95bb44c8",
   "metadata": {},
   "outputs": [],
   "source": [
    "# Evaluating the model\n",
    "\n",
    "loss, accuracy = model.evaluate(X_test_final, y_test)\n",
    "print(\"Accuracy is == \" , accuracy)\n",
    "print(\"loss is == \" , np.round(loss , 4))"
   ]
  },
  {
   "cell_type": "code",
   "execution_count": null,
   "id": "28d11052",
   "metadata": {},
   "outputs": [],
   "source": [
    "# The style\n",
    "sns.set(style='whitegrid')\n",
    "\n",
    "# Plotting training history\n",
    "plt.figure(figsize=(15, 8))\n",
    "\n",
    "# Plot accuracy\n",
    "plt.subplot(1, 2, 1)\n",
    "plt.plot(history.history['accuracy'], label='Training Accuracy', linestyle='-', marker='X', markersize=5)\n",
    "plt.xlabel('Epoch')\n",
    "plt.ylabel('Accuracy')\n",
    "plt.title('Training Accuracy')\n",
    "plt.legend()\n",
    "\n",
    "# Plot loss\n",
    "plt.subplot(1, 2, 2)\n",
    "plt.plot(history.history['loss'], label='Training Loss', linestyle='-', marker='o', markersize=5)\n",
    "plt.xlabel('Epoch')\n",
    "plt.ylabel('Loss')\n",
    "plt.title('Training Loss')\n",
    "plt.legend()\n",
    "\n",
    "plt.tight_layout()\n",
    "plt.show()"
   ]
  },
  {
   "cell_type": "code",
   "execution_count": null,
   "id": "880be740",
   "metadata": {},
   "outputs": [],
   "source": [
    "# The Prediction\n",
    "prediction = model.predict(X_test_final)\n",
    "prediction"
   ]
  },
  {
   "cell_type": "code",
   "execution_count": null,
   "id": "725d4a4d",
   "metadata": {},
   "outputs": [],
   "source": [
    "sns.histplot(y_test, color='blue', label='Actual', kde=True)\n",
    "sns.histplot(prediction, color='red', label='Predicted', kde=True)\n",
    "plt.xlabel(\"Values\")\n",
    "plt.ylabel(\"Frequency\")\n",
    "plt.title(\"Actual vs. Predicted Distribution\")\n",
    "plt.legend()\n",
    "plt.show()"
   ]
  },
  {
   "cell_type": "code",
   "execution_count": null,
   "id": "633d5b31",
   "metadata": {},
   "outputs": [],
   "source": [
    "plt.figure(figsize=(10,7))\n",
    "class_index = 0  \n",
    "predictions_class = prediction[:, class_index]\n",
    "\n",
    "# Calculate residuals\n",
    "residuals = y_test - predictions_class\n",
    "\n",
    "# Plotting residuals\n",
    "plt.scatter(predictions_class, residuals)\n",
    "plt.xlabel(\"Predicted Values\")\n",
    "plt.ylabel(\"Residuals\")\n",
    "plt.title(\"Residual Plot\")\n",
    "plt.axhline(y=0, color='k', linestyle='--')\n",
    "plt.show()"
   ]
  },
  {
   "cell_type": "markdown",
   "id": "5a83b7c0",
   "metadata": {},
   "source": [
    "# END"
   ]
  },
  {
   "cell_type": "markdown",
   "id": "c78eeab0",
   "metadata": {},
   "source": [
    "# BY : SAYED ALI"
   ]
  }
 ],
 "metadata": {
  "kernelspec": {
   "display_name": "Python 3 (ipykernel)",
   "language": "python",
   "name": "python3"
  },
  "language_info": {
   "codemirror_mode": {
    "name": "ipython",
    "version": 3
   },
   "file_extension": ".py",
   "mimetype": "text/x-python",
   "name": "python",
   "nbconvert_exporter": "python",
   "pygments_lexer": "ipython3",
   "version": "3.10.9"
  }
 },
 "nbformat": 4,
 "nbformat_minor": 5
}
